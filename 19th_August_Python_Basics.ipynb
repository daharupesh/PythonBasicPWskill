{
 "cells": [
  {
   "cell_type": "raw",
   "id": "00dead27-7906-4ece-adba-c7d15ddb4f12",
   "metadata": {},
   "source": [
    "                              Python Basic  \n",
    "                         Assignment Question"
   ]
  },
  {
   "cell_type": "raw",
   "id": "4b11900e-92be-4bfb-9fa4-f4c75a3b4737",
   "metadata": {},
   "source": [
    "1. Declare two variables, \"x \" and 'y' and assign them integer values . Swap the values of these varibales without using any temporary variable."
   ]
  },
  {
   "cell_type": "code",
   "execution_count": 6,
   "id": "ed3c9cd4-9835-4f1e-874c-34e6d7ebd6ba",
   "metadata": {},
   "outputs": [
    {
     "name": "stdout",
     "output_type": "stream",
     "text": [
      "fist value:  10 and Second value:  13\n",
      "fist value:  13 and Second value:  10\n"
     ]
    }
   ],
   "source": [
    "x,y=10,13 # variable and assigning the values.\n",
    "print(\"fist value: \",x,\"and\"+\" Second value: \",y) # before swaping\n",
    "x,y=y,x # right hand side of assignment create tupple and effectively possible to swap value without temporary variable. \n",
    "print(\"fist value: \",x,\"and\"+\" Second value: \",y) # Affter swaping"
   ]
  },
  {
   "cell_type": "raw",
   "id": "cc2ac64b-aed9-427f-82eb-4487b4006de3",
   "metadata": {},
   "source": [
    "2. Create a program that calculate the area of a rectangle. take the lenght and width as inputs from the user and store them in varibles. Calculate and Display the Area."
   ]
  },
  {
   "cell_type": "code",
   "execution_count": 11,
   "id": "b3f1953f-5e12-453e-8100-1e2dc591479d",
   "metadata": {},
   "outputs": [
    {
     "name": "stdin",
     "output_type": "stream",
     "text": [
      "Enter the length: 120\n",
      "Enter the width: 140\n"
     ]
    },
    {
     "name": "stdout",
     "output_type": "stream",
     "text": [
      "The area of the rectangular is : 16800\n"
     ]
    }
   ],
   "source": [
    "length = int(input(\"Enter the length:\")) #taking user input as integer value and storing in variable. \n",
    "width = int(input(\"Enter the width:\")) # same as above taking user input and storing in variable.\n",
    "area = length * width # formula to calculate the area of the rectangular\n",
    "print(\"The area of the rectangular is :\", area)"
   ]
  },
  {
   "cell_type": "raw",
   "id": "e5920cc7-d6d8-413d-8dab-435b9f66dcce",
   "metadata": {},
   "source": [
    "3. Write a Python program that converts temperatures from Celsius to Fahrenheit. Take the temperature in Celsius as input, store it in a variable, Convert it to Fahrenheit, and display the result."
   ]
  },
  {
   "cell_type": "code",
   "execution_count": 14,
   "id": "ede23a6e-0bf6-4a5e-89b5-8b625aa22ee3",
   "metadata": {},
   "outputs": [
    {
     "name": "stdin",
     "output_type": "stream",
     "text": [
      "Enter the temperature in Celsius:  36\n"
     ]
    },
    {
     "name": "stdout",
     "output_type": "stream",
     "text": [
      "The result in Fehrenheit is:  96.8\n"
     ]
    }
   ],
   "source": [
    "celsius= float(input(\"Enter the temperature in Celsius: \")) # user input in temperature in celsius\n",
    "fahrenheit = (celsius*9/5) + 32   # convert celsius to fahrenheit\n",
    "print(\"The result in Fehrenheit is: \", fahrenheit)  # result in fahrenheit"
   ]
  },
  {
   "cell_type": "raw",
   "id": "fa26c780-f63c-4c16-9489-b68939638e67",
   "metadata": {},
   "source": [
    " Topic based Questions"
   ]
  },
  {
   "cell_type": "raw",
   "id": "7f7d5426-9b04-4d08-82a5-2811809d09a9",
   "metadata": {},
   "source": [
    "Q1.Write a Python program that takes a string as input and prints the length of\n",
    "the string"
   ]
  },
  {
   "cell_type": "code",
   "execution_count": 2,
   "id": "a10feb45-46a6-4da2-9192-1f1088542608",
   "metadata": {},
   "outputs": [
    {
     "name": "stdin",
     "output_type": "stream",
     "text": [
      "Enter any string:  rupesh\n"
     ]
    },
    {
     "name": "stdout",
     "output_type": "stream",
     "text": [
      "The length of the string rupesh is:  6\n"
     ]
    }
   ],
   "source": [
    "string = input(\"Enter any string: \")  # taking string as input\n",
    "print(\"The length of the string\",string,\"is: \", len(string)) # finding length of input string"
   ]
  },
  {
   "cell_type": "raw",
   "id": "95443b10-1dbb-4040-b106-b19d610630f7",
   "metadata": {},
   "source": [
    "Q2. Create a program that takes a sentence from the user and counts the number\n",
    "of vowels (a, e, i, o, u) in the string"
   ]
  },
  {
   "cell_type": "code",
   "execution_count": 10,
   "id": "fad82a03-f5e0-487d-b85c-8b7c7f6744b5",
   "metadata": {},
   "outputs": [
    {
     "name": "stdin",
     "output_type": "stream",
     "text": [
      "Enter any sentence:  My name is Rupesh Kumar Daha\n"
     ]
    },
    {
     "name": "stdout",
     "output_type": "stream",
     "text": [
      "The number of vowel in Sentece ' my name is rupesh kumar daha 'is : 9\n"
     ]
    }
   ],
   "source": [
    "sentence = input(\"Enter any sentence: \") # sentence input\n",
    "sentence = sentence.lower()  # converting all the character in lower case\n",
    "vowels='aeiou'\n",
    "count_vowel =0\n",
    "for vowel in sentence:         # finding vowels letter\n",
    "    if vowel in vowels:\n",
    "        count_vowel+=1\n",
    "        \n",
    "print(\"The number of vowel in Sentece '\",sentence, \"'is :\", count_vowel )    # final output total numeber of vowel...     "
   ]
  },
  {
   "cell_type": "raw",
   "id": "d763f058-84e0-41ed-9b71-77fa22a45df9",
   "metadata": {},
   "source": [
    "3. Given a string, reverse the order of characters using string slicing and print\n",
    "the reversed string."
   ]
  },
  {
   "cell_type": "code",
   "execution_count": 12,
   "id": "28a26553-231d-4288-ae1e-cca47589f47a",
   "metadata": {},
   "outputs": [
    {
     "name": "stdin",
     "output_type": "stream",
     "text": [
      "Enter the the string as input: pwskill\n"
     ]
    },
    {
     "name": "stdout",
     "output_type": "stream",
     "text": [
      "Reverse String : llikswp\n",
      "Reverse string:  hsepurahad\n"
     ]
    }
   ],
   "source": [
    "string=input(\"Enter the the string as input:\")\n",
    "print(\"Reverse String :\",string[::-1])\n",
    "\n",
    "#or\n",
    "s1=\"daharupesh\"\n",
    "print(\"Reverse string: \",s1[9::-1])"
   ]
  },
  {
   "cell_type": "raw",
   "id": "531f29d2-dee0-4c41-89d3-eb464147e72c",
   "metadata": {},
   "source": [
    "Write a program that takes a string as input and checks if it is a palindrome\n",
    "(reads the same forwards and backwards)."
   ]
  },
  {
   "cell_type": "code",
   "execution_count": 15,
   "id": "793c2daf-eff5-4e01-b635-ea8ac2516921",
   "metadata": {},
   "outputs": [
    {
     "name": "stdin",
     "output_type": "stream",
     "text": [
      "Enter a string:  abcdcba\n"
     ]
    },
    {
     "name": "stdout",
     "output_type": "stream",
     "text": [
      "abcdcba  is a palindrome.\n"
     ]
    }
   ],
   "source": [
    "string = input(\"Enter a string: \") # Input a string from the user\n",
    "\n",
    "cleaned_string = string.replace(\" \", \"\").lower() #  Remove spaces and convert the string to lowercase for case-insensitivity\n",
    "\n",
    "# Check if the cleaned string is the same when reversed\n",
    "if string == cleaned_string[::-1]:\n",
    "    print(string ,\" is a palindrome.\")\n",
    "else:\n",
    "    print( string , \" is not a palindrome.\")\n"
   ]
  },
  {
   "cell_type": "raw",
   "id": "a3b0d895-1553-4995-a28f-f44e3349c536",
   "metadata": {},
   "source": [
    "Create a program that takes a string as input and removes all the spaces from\n",
    "it. Print the modified string without spaces."
   ]
  },
  {
   "cell_type": "code",
   "execution_count": null,
   "id": "1da7e23b-1d91-4b61-bba1-2dde129cecab",
   "metadata": {},
   "outputs": [],
   "source": [
    "# Input a string from the user\n",
    "sentence = input(\"Enter a string: \")\n",
    "\n",
    "#Remove spaces from the input string\n",
    "modified_string = input_string.replace(\" \", \"\")\n",
    "\n",
    "# Print the modified string without spaces\n",
    "print(\"Modified string without spaces:\", modified_string)\n"
   ]
  }
 ],
 "metadata": {
  "kernelspec": {
   "display_name": "Python 3 (ipykernel)",
   "language": "python",
   "name": "python3"
  },
  "language_info": {
   "codemirror_mode": {
    "name": "ipython",
    "version": 3
   },
   "file_extension": ".py",
   "mimetype": "text/x-python",
   "name": "python",
   "nbconvert_exporter": "python",
   "pygments_lexer": "ipython3",
   "version": "3.10.8"
  }
 },
 "nbformat": 4,
 "nbformat_minor": 5
}
